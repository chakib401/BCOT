{
  "nbformat": 4,
  "nbformat_minor": 0,
  "metadata": {
    "colab": {
      "name": "document_clustering.ipynb",
      "provenance": [],
      "collapsed_sections": []
    },
    "kernelspec": {
      "name": "python3",
      "display_name": "Python 3"
    },
    "language_info": {
      "name": "python"
    }
  },
  "cells": [
    {
      "cell_type": "markdown",
      "source": [
        " # EMD"
      ],
      "metadata": {
        "id": "ATawChj-KEB5"
      }
    },
    {
      "cell_type": "code",
      "source": [
        "%cd /content/BCOT\n",
        "%load_ext autoreload\n",
        "%autoreload 2\n",
        "\n",
        "import sys\n",
        "\n",
        "import scipy.sparse as sp\n",
        "from bcot.utils import read_dataset\n",
        "from bcot.bcot import BCOT\n",
        "from sklearn.metrics import normalized_mutual_info_score as nmi \n",
        "from sklearn.metrics import adjusted_rand_score as ari\n",
        "from sklearn.metrics import davies_bouldin_score\n",
        "from bcot.metrics import clustering_accuracy\n",
        "import numpy as np\n",
        "from time import time \n",
        "\n",
        "n_runs = 2\n",
        "plot_block_structure = True\n",
        "\n",
        "for dataset in ['wiki', 'pubmed', 'ng20']:\n",
        "  features, labels, n_classes = read_dataset(dataset, sparse=True)\n",
        "  n, d = features.shape\n",
        "  k = n_classes\n",
        "\n",
        "  for scaler in [1, n, d, k]:    \n",
        "\n",
        "    metrics = {}\n",
        "    metrics['time'] = []\n",
        "    metrics['acc'] = []\n",
        "    metrics['nmi'] = []\n",
        "    metrics['ari'] = []\n",
        "    metrics['db'] = []\n",
        "    metrics['avg_n_clust'] = []\n",
        "    \n",
        "\n",
        "    for _ in range(n_runs):\n",
        "      t0 = time()\n",
        "      M = -features * scaler\n",
        "      \n",
        "      Z_p, W_p = BCOT(M, n_classes, algorithm='emd', reg=1, n_iter=100)\n",
        "\n",
        "      Z = Z_p.argmax(-1)\n",
        "      W = W_p.argmax(-1)\n",
        "\n",
        "      metrics['time'].append(time()-t0)\n",
        "      metrics['acc'].append(clustering_accuracy(labels, Z)*100)\n",
        "      metrics['nmi'].append(nmi(labels, Z)*100)\n",
        "      metrics['ari'].append(ari(labels, Z)*100)\n",
        "      try:\n",
        "        metrics['db'].append(davies_bouldin_score(features.toarray(), Z))\n",
        "      except:\n",
        "        metrics['db'].append(np.nan)\n",
        "      metrics['avg_n_clust'].append(len(np.unique(Z)))\n",
        "      \n",
        "      \n",
        "    results = {\n",
        "      'mean': {k:np.mean(v).round(1 if k != 'time' else 2) for k,v in metrics.items()}, \n",
        "      'std': {k:np.std(v).round(1 if k != 'time' else 2) for k,v in metrics.items()}\n",
        "    }\n",
        "    \n",
        "    \n",
        "    means = results['mean']\n",
        "    std = results['std']\n",
        "    print(f'### Results on {dataset}')\n",
        "    print(f'L(X)=-{scaler}X')\n",
        "    print(f\"{means['acc']}±{std['acc']} & {means['nmi']}±{std['nmi']} & {means['ari']}±{std['ari']}\", sep=',') \n",
        "    print(f\"time: {means['time']}±{std['time']}\")\n",
        "    print(f\"db-index: {means['db']}±{std['db']}\")\n",
        "    print(f\"number of clusters: {means['avg_n_clust']}\")\n",
        "    print()\n",
        "\n",
        "    if plot_block_structure:\n",
        "      import matplotlib.pyplot as plt\n",
        "\n",
        "\n",
        "      fig = plt.figure(figsize=(6, 4))\n",
        "      ax = fig.add_subplot(111)\n",
        "\n",
        "      # from bcot.utils import binarize\n",
        "      # Z_p = binarize(Z_p.argmax(-1), k)\n",
        "      # W_p = binarize(W_p.argmax(-1), k)\n",
        "\n",
        "      ax.imshow((Z_p @ W_p.T)[Z.argsort()][:, W.argsort()], interpolation='nearest')\n",
        "      ax.set_aspect('auto')\n",
        "\n",
        "      plt.xticks([])\n",
        "      plt.yticks([])\n",
        "      plt.savefig(f'{dataset}-block-structure.pdf')\n",
        "      plt.show()"
      ],
      "metadata": {
        "colab": {
          "base_uri": "https://localhost:8080/",
          "height": 1000
        },
        "id": "IhXzrKmR_oul",
        "outputId": "5795ab00-0398-4aab-f725-f3af036eec7f"
      },
      "execution_count": 2,
      "outputs": [
        {
          "output_type": "stream",
          "name": "stdout",
          "text": [
            "/content/BCOT\n",
            "### Results on wiki\n",
            "L(X)=-1X\n",
            "49.4±0.1 & 48.6±0.2 & 30.6±0.2\n",
            "time: 7.24±0.68\n",
            "db-index: 5.7±0.1\n",
            "number of clusters: 17.0\n",
            "\n"
          ]
        },
        {
          "output_type": "display_data",
          "data": {
            "text/plain": [
              "<Figure size 432x288 with 1 Axes>"
            ],
            "image/png": "[encoded data removed]"
          },
          "metadata": {}
        },
        {
          "output_type": "stream",
          "name": "stdout",
          "text": [
            "### Results on wiki\n",
            "L(X)=-2405X\n",
            "50.1±0.4 & 47.7±0.4 & 30.3±0.4\n",
            "time: 7.38±1.98\n",
            "db-index: 5.8±0.2\n",
            "number of clusters: 17.0\n",
            "\n"
          ]
        },
        {
          "output_type": "display_data",
          "data": {
            "text/plain": [
              "<Figure size 432x288 with 1 Axes>"
            ],
            "image/png": "[encoded data removed]"
          },
          "metadata": {}
        },
        {
          "output_type": "stream",
          "name": "stdout",
          "text": [
            "### Results on wiki\n",
            "L(X)=-4973X\n",
            "51.2±0.1 & 49.7±0.5 & 32.4±0.3\n",
            "time: 5.97±1.86\n",
            "db-index: 5.7±0.2\n",
            "number of clusters: 17.0\n",
            "\n"
          ]
        },
        {
          "output_type": "display_data",
          "data": {
            "text/plain": [
              "<Figure size 432x288 with 1 Axes>"
            ],
            "image/png": "[encoded data removed]"
          },
          "metadata": {}
        },
        {
          "output_type": "stream",
          "name": "stdout",
          "text": [
            "### Results on wiki\n",
            "L(X)=-17X\n",
            "50.8±0.9 & 48.7±1.3 & 31.3±0.9\n",
            "time: 7.21±1.93\n",
            "db-index: 5.8±0.1\n",
            "number of clusters: 17.0\n",
            "\n"
          ]
        },
        {
          "output_type": "display_data",
          "data": {
            "text/plain": [
              "<Figure size 432x288 with 1 Axes>"
            ],
            "image/png": "[encoded data removed]"
          },
          "metadata": {}
        },
        {
          "output_type": "stream",
          "name": "stdout",
          "text": [
            "### Results on pubmed\n",
            "L(X)=-1X\n",
            "50.7±0.4 & 15.7±1.1 & 12.4±0.7\n",
            "time: 8.27±2.39\n",
            "db-index: 8.0±0.1\n",
            "number of clusters: 3.0\n",
            "\n"
          ]
        },
        {
          "output_type": "display_data",
          "data": {
            "text/plain": [
              "<Figure size 432x288 with 1 Axes>"
            ],
            "image/png": "[encoded data removed]"
          },
          "metadata": {}
        },
        {
          "output_type": "stream",
          "name": "stdout",
          "text": [
            "### Results on pubmed\n",
            "L(X)=-19717X\n",
            "57.1±1.2 & 17.2±0.4 & 14.9±1.0\n",
            "time: 8.32±1.17\n",
            "db-index: 7.3±0.6\n",
            "number of clusters: 3.0\n",
            "\n"
          ]
        },
        {
          "output_type": "display_data",
          "data": {
            "text/plain": [
              "<Figure size 432x288 with 1 Axes>"
            ],
            "image/png": "[encoded data removed]"
          },
          "metadata": {}
        },
        {
          "output_type": "stream",
          "name": "stdout",
          "text": [
            "### Results on pubmed\n",
            "L(X)=-500X\n",
            "47.7±0.8 & 13.8±0.6 & 10.2±0.6\n",
            "time: 5.16±1.01\n",
            "db-index: 7.1±0.0\n",
            "number of clusters: 3.0\n",
            "\n"
          ]
        },
        {
          "output_type": "display_data",
          "data": {
            "text/plain": [
              "<Figure size 432x288 with 1 Axes>"
            ],
            "image/png": "[encoded data removed]"
          },
          "metadata": {}
        },
        {
          "output_type": "stream",
          "name": "stdout",
          "text": [
            "### Results on pubmed\n",
            "L(X)=-3X\n",
            "51.8±6.6 & 14.1±3.6 & 11.1±4.3\n",
            "time: 10.02±0.83\n",
            "db-index: 6.8±0.2\n",
            "number of clusters: 3.0\n",
            "\n"
          ]
        },
        {
          "output_type": "display_data",
          "data": {
            "text/plain": [
              "<Figure size 432x288 with 1 Axes>"
            ],
            "image/png": "[encoded data removed]"
          },
          "metadata": {}
        },
        {
          "output_type": "stream",
          "name": "stdout",
          "text": [
            "### Results on ng20\n",
            "L(X)=-1X\n",
            "31.2±1.4 & 27.9±0.9 & 16.4±0.9\n",
            "time: 85.2±0.38\n",
            "db-index: 10.5±0.1\n",
            "number of clusters: 20.0\n",
            "\n"
          ]
        },
        {
          "output_type": "display_data",
          "data": {
            "text/plain": [
              "<Figure size 432x288 with 1 Axes>"
            ],
            "image/png": "[encoded data removed]"
          },
          "metadata": {}
        },
        {
          "output_type": "stream",
          "name": "stdout",
          "text": [
            "### Results on ng20\n",
            "L(X)=-18846X\n",
            "27.5±2.1 & 25.6±3.2 & 14.0±2.5\n",
            "time: 124.47±12.46\n",
            "db-index: 10.8±0.4\n",
            "number of clusters: 20.0\n",
            "\n"
          ]
        },
        {
          "output_type": "display_data",
          "data": {
            "text/plain": [
              "<Figure size 432x288 with 1 Axes>"
            ],
            "image/png": "[encoded data removed]"
          },
          "metadata": {}
        },
        {
          "output_type": "stream",
          "name": "stdout",
          "text": [
            "### Results on ng20\n",
            "L(X)=-14390X\n",
            "32.4±1.5 & 28.0±0.5 & 17.0±0.3\n",
            "time: 108.89±4.01\n",
            "db-index: 10.7±0.2\n",
            "number of clusters: 20.0\n",
            "\n"
          ]
        },
        {
          "output_type": "display_data",
          "data": {
            "text/plain": [
              "<Figure size 432x288 with 1 Axes>"
            ],
            "image/png": "[encoded data removed]"
          },
          "metadata": {}
        },
        {
          "output_type": "stream",
          "name": "stdout",
          "text": [
            "### Results on ng20\n",
            "L(X)=-20X\n",
            "34.4±1.1 & 29.9±0.0 & 19.1±0.2\n",
            "time: 120.96±7.7\n",
            "db-index: 10.9±0.5\n",
            "number of clusters: 20.0\n",
            "\n"
          ]
        },
        {
          "output_type": "display_data",
          "data": {
            "text/plain": [
              "<Figure size 432x288 with 1 Axes>"
            ],
            "image/png": "[encoded data removed]"
          },
          "metadata": {}
        }
      ]
    },
    {
      "cell_type": "markdown",
      "source": [
        "# Sinkhorn "
      ],
      "metadata": {
        "id": "nfChZ51cKF_-"
      }
    },
    {
      "cell_type": "code",
      "source": [
        "%cd /content/BCOT\n",
        "%load_ext autoreload\n",
        "%autoreload 2\n",
        "\n",
        "import sys\n",
        "import warnings\n",
        "warnings.filterwarnings(\"ignore\")\n",
        "\n",
        "import scipy.sparse as sp\n",
        "from bcot.utils import read_dataset\n",
        "from bcot.bcot import BCOT\n",
        "from sklearn.metrics import normalized_mutual_info_score as nmi \n",
        "from sklearn.metrics import adjusted_rand_score as ari\n",
        "from sklearn.metrics import davies_bouldin_score\n",
        "from bcot.metrics import clustering_accuracy\n",
        "import numpy as np\n",
        "from time import time \n",
        "\n",
        "n_runs = 1\n",
        "plot_block_structure = True\n",
        "\n",
        "for dataset in ['wiki']:\n",
        "  features, labels, n_classes = read_dataset(dataset, sparse=True)\n",
        "  n, d = features.shape\n",
        "  k = n_classes\n",
        "\n",
        "  for reg in [.0001, .001, .01, .1, 1, 1]:\n",
        "    for scaler in [1, n, d, k]:\n",
        "\n",
        "      metrics = {}\n",
        "      metrics['time'] = []\n",
        "      metrics['acc'] = []\n",
        "      metrics['nmi'] = []\n",
        "      metrics['ari'] = []\n",
        "      metrics['db'] = []\n",
        "      metrics['avg_n_clust'] = []\n",
        "      \n",
        "\n",
        "      for _ in range(n_runs):\n",
        "        t0 = time()\n",
        "        M = -features * scaler\n",
        "        \n",
        "        Z_p, W_p = BCOT(M, n_classes, algorithm='sinkhorn', reg=reg, n_iter=100)\n",
        "\n",
        "        Z = Z_p.argmax(-1)\n",
        "        W = W_p.argmax(-1)\n",
        "\n",
        "        metrics['time'].append(time()-t0)\n",
        "        metrics['acc'].append(clustering_accuracy(labels, Z)*100)\n",
        "        metrics['nmi'].append(nmi(labels, Z)*100)\n",
        "        metrics['ari'].append(ari(labels, Z)*100)\n",
        "        try:\n",
        "          metrics['db'].append(davies_bouldin_score(features.toarray(), Z))\n",
        "        except:\n",
        "          metrics['db'].append(np.nan)\n",
        "        metrics['avg_n_clust'].append(len(np.unique(Z)))\n",
        "        \n",
        "        \n",
        "      results = {\n",
        "        'mean': {k:np.mean(v).round(1 if k != 'time' else 2) for k,v in metrics.items()}, \n",
        "        'std': {k:np.std(v).round(1 if k != 'time' else 2) for k,v in metrics.items()}\n",
        "      }\n",
        "      \n",
        "      \n",
        "      means = results['mean']\n",
        "      std = results['std']\n",
        "      print(f'### Results on {dataset}')\n",
        "      print(f'L(X)=-{scaler}X, λ={reg}')\n",
        "      print(f\"{means['acc']}±{std['acc']} & {means['nmi']}±{std['nmi']} & {means['ari']}±{std['ari']}\", sep=',') \n",
        "      print(f\"time: {means['time']}±{std['time']}\")\n",
        "      print(f\"db-index: {means['db']}±{std['db']}\")\n",
        "      print(f\"number of clusters: {means['avg_n_clust']}\")\n",
        "      print()\n",
        "\n",
        "      if plot_block_structure:\n",
        "        import matplotlib.pyplot as plt\n",
        "\n",
        "\n",
        "        fig = plt.figure(figsize=(6, 4))\n",
        "        ax = fig.add_subplot(111)\n",
        "\n",
        "        # from bcot.utils import binarize\n",
        "        # Z_p = binarize(Z_p.argmax(-1), k)\n",
        "        # W_p = binarize(W_p.argmax(-1), k)\n",
        "\n",
        "        ax.imshow((Z_p @ W_p.T)[Z.argsort()][:, W.argsort()], interpolation='nearest')\n",
        "        ax.set_aspect('auto')\n",
        "\n",
        "        plt.xticks([])\n",
        "        plt.yticks([])\n",
        "        plt.savefig(f'{dataset}-block-structure.pdf')\n",
        "        plt.show()\n",
        "        "
      ],
      "metadata": {
        "colab": {
          "base_uri": "https://localhost:8080/",
          "height": 436
        },
        "id": "LYo-DlW5Em0M",
        "outputId": "1ad63b88-7e7b-40da-e6ff-2e37cb3475a0"
      },
      "execution_count": null,
      "outputs": [
        {
          "output_type": "stream",
          "name": "stdout",
          "text": [
            "/content/BCOT\n",
            "The autoreload extension is already loaded. To reload it, use:\n",
            "  %reload_ext autoreload\n",
            "### Results on wiki\n",
            "L(X)=-1X, λ=0.0001\n",
            "50.8±0.0 & 50.2±0.0 & 32.1±0.0\n",
            "time: 26.55±0.0\n",
            "db-index: 6.0±0.0\n",
            "number of clusters: 17.0\n",
            "\n"
          ]
        },
        {
          "output_type": "display_data",
          "data": {
            "text/plain": [
              "<Figure size 432x288 with 1 Axes>"
            ],
            "image/png": "[encoded data removed]"
          },
          "metadata": {}
        }
      ]
    }
  ]
}
